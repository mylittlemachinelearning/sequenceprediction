{
 "cells": [
  {
   "cell_type": "code",
   "execution_count": null,
   "metadata": {
    "scrolled": true
   },
   "outputs": [],
   "source": [
    "import numpy as np\n",
    "import pickle\n",
    "import keras\n",
    "from keras.models import Sequential\n",
    "from keras.layers import LSTM, Dense\n",
    "from keras.callbacks import ModelCheckpoint\n",
    "import training_data_generator\n",
    "tdg = training_data_generator.training_data_generator(500)\n",
    "trainingdata = tdg.produceTrainingSequences()\n",
    "print(\"Printing DATA!:\")\n",
    "start_xy =[]\n",
    "end_xy =[]\n",
    "\n",
    "for batch in trainingdata:\n",
    "    for pattern in batch:\n",
    "        order = 1\n",
    "        for sequence in pattern:\n",
    "            start = [order,sequence[0],sequence[1]] \n",
    "            start_xy.append(start)\n",
    "            end = [order,sequence[2],sequence[3]]\n",
    "            end_xy.append(end)\n",
    "            order = order +1\n",
    "    \n",
    "    model = Sequential()\n",
    "    model.add(LSTM(64, return_sequences=False, input_shape=(2,len(start_xy))))\n",
    "    model.add(Dense(2, activation='relu'))\n",
    "    model.compile(loss='mse', optimizer='adam')\n",
    "    model.fit(start_xy,end_xy,batch_size=len(start_xy), epochs=5000,  verbose=2)"
   ]
  },
  {
   "cell_type": "code",
   "execution_count": null,
   "metadata": {},
   "outputs": [],
   "source": []
  },
  {
   "cell_type": "code",
   "execution_count": null,
   "metadata": {},
   "outputs": [],
   "source": []
  }
 ],
 "metadata": {
  "kernelspec": {
   "display_name": "Python 3.7.7 64-bit ('tfnogpu': conda)",
   "language": "python",
   "name": "python37764bittfnogpuconda0654ea235e5d49aaa70c705b96c90962"
  },
  "language_info": {
   "codemirror_mode": {
    "name": "ipython",
    "version": 3
   },
   "file_extension": ".py",
   "mimetype": "text/x-python",
   "name": "python",
   "nbconvert_exporter": "python",
   "pygments_lexer": "ipython3",
   "version": "3.8.5"
  }
 },
 "nbformat": 4,
 "nbformat_minor": 4
}
